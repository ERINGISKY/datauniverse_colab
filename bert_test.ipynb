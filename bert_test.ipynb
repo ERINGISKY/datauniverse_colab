{
 "cells": [
  {
   "cell_type": "code",
   "execution_count": 1,
   "metadata": {},
   "outputs": [
    {
     "name": "stdout",
     "output_type": "stream",
     "text": [
      "Looking in indexes: https://download.pytorch.org/whl/cu118\n",
      "Requirement already satisfied: torch in c:\\users\\sho\\appdata\\roaming\\pypoetry\\venv\\lib\\site-packages (2.2.1+cu118)\n",
      "Collecting torchvision\n",
      "  Using cached https://download.pytorch.org/whl/cu118/torchvision-0.17.1%2Bcu118-cp310-cp310-win_amd64.whl (4.9 MB)\n",
      "Collecting torchaudio\n",
      "  Using cached https://download.pytorch.org/whl/cu118/torchaudio-2.2.1%2Bcu118-cp310-cp310-win_amd64.whl (4.0 MB)\n",
      "Requirement already satisfied: filelock in c:\\users\\sho\\appdata\\roaming\\pypoetry\\venv\\lib\\site-packages (from torch) (3.12.4)\n",
      "Requirement already satisfied: typing-extensions>=4.8.0 in c:\\users\\sho\\appdata\\roaming\\pypoetry\\venv\\lib\\site-packages (from torch) (4.10.0)\n",
      "Requirement already satisfied: sympy in c:\\users\\sho\\appdata\\roaming\\pypoetry\\venv\\lib\\site-packages (from torch) (1.12)\n",
      "Requirement already satisfied: networkx in c:\\users\\sho\\appdata\\roaming\\pypoetry\\venv\\lib\\site-packages (from torch) (3.2.1)\n",
      "Requirement already satisfied: jinja2 in c:\\users\\sho\\appdata\\roaming\\pypoetry\\venv\\lib\\site-packages (from torch) (3.1.3)\n",
      "Requirement already satisfied: fsspec in c:\\users\\sho\\appdata\\roaming\\pypoetry\\venv\\lib\\site-packages (from torch) (2024.2.0)\n",
      "Requirement already satisfied: numpy in c:\\users\\sho\\appdata\\roaming\\pypoetry\\venv\\lib\\site-packages (from torchvision) (1.26.4)\n",
      "Requirement already satisfied: pillow!=8.3.*,>=5.3.0 in c:\\users\\sho\\appdata\\roaming\\pypoetry\\venv\\lib\\site-packages (from torchvision) (10.2.0)\n",
      "Requirement already satisfied: MarkupSafe>=2.0 in c:\\users\\sho\\appdata\\roaming\\pypoetry\\venv\\lib\\site-packages (from jinja2->torch) (2.1.5)\n",
      "Requirement already satisfied: mpmath>=0.19 in c:\\users\\sho\\appdata\\roaming\\pypoetry\\venv\\lib\\site-packages (from sympy->torch) (1.3.0)\n",
      "Installing collected packages: torchvision, torchaudio\n",
      "Successfully installed torchaudio-2.2.1+cu118 torchvision-0.17.1+cu118\n"
     ]
    },
    {
     "name": "stderr",
     "output_type": "stream",
     "text": [
      "\n",
      "[notice] A new release of pip is available: 23.2.1 -> 24.0\n",
      "[notice] To update, run: python.exe -m pip install --upgrade pip\n"
     ]
    }
   ],
   "source": [
    "! pip3 install torch torchvision torchaudio --index-url https://download.pytorch.org/whl/cu118"
   ]
  },
  {
   "cell_type": "code",
   "execution_count": 11,
   "metadata": {},
   "outputs": [
    {
     "name": "stdout",
     "output_type": "stream",
     "text": [
      "Similarity: 0.7645888811833585\n"
     ]
    }
   ],
   "source": [
    "from transformers import BertTokenizer, BertModel\n",
    "import torch\n",
    "from scipy.spatial.distance import cosine\n",
    "\n",
    "# BERTのトークナイザーとモデルのロード\n",
    "tokenizer = BertTokenizer.from_pretrained('bert-base-uncased')\n",
    "model = BertModel.from_pretrained('bert-base-uncased')\n",
    "\n",
    "# テキストをBERTでベクトル化する関数\n",
    "def get_bert_embedding(text):\n",
    "    # テキストをトークン化し、PyTorchテンソルに変換\n",
    "    inputs = tokenizer(text, return_tensors=\"pt\", padding=True, truncation=True, max_length=512)\n",
    "    # BERTモデルでテキストの埋め込みを計算\n",
    "    with torch.no_grad():\n",
    "        outputs = model(**inputs)\n",
    "    # 最終層の隠れ状態の平均を取得してベクトル化\n",
    "    embeddings = outputs.last_hidden_state.mean(dim=1)\n",
    "    return embeddings\n",
    "\n",
    "# 2つのテキスト間のコサイン類似度を計算する関数\n",
    "def calculate_similarity(text1, text2):\n",
    "    # テキストをベクトル化\n",
    "    embedding1 = get_bert_embedding(text1)\n",
    "    embedding2 = get_bert_embedding(text2)\n",
    "    # コサイン類似度を計算\n",
    "    similarity = 1 - cosine(embedding1.squeeze().numpy(), embedding2.squeeze().numpy())\n",
    "    return similarity\n",
    "\n",
    "# テキスト例\n",
    "text1 = \"商品の革新性\"\n",
    "text2 = \"VRの技術は仮想現実を体験させる\"\n",
    "\n",
    "# 類似度計算\n",
    "similarity = calculate_similarity(text1, text2)\n",
    "print(f\"Similarity: {similarity}\")"
   ]
  },
  {
   "cell_type": "code",
   "execution_count": null,
   "metadata": {},
   "outputs": [],
   "source": []
  }
 ],
 "metadata": {
  "kernelspec": {
   "display_name": "datauniverse",
   "language": "python",
   "name": "datauniverse"
  },
  "language_info": {
   "codemirror_mode": {
    "name": "ipython",
    "version": 3
   },
   "file_extension": ".py",
   "mimetype": "text/x-python",
   "name": "python",
   "nbconvert_exporter": "python",
   "pygments_lexer": "ipython3",
   "version": "3.10.6"
  }
 },
 "nbformat": 4,
 "nbformat_minor": 2
}
